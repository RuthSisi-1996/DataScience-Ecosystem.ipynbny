{
 "cells": [
  {
   "cell_type": "markdown",
   "id": "42d59089",
   "metadata": {},
   "source": [
    "# Data Science Tools and Ecosystem "
   ]
  },
  {
   "cell_type": "markdown",
   "id": "519dcc80",
   "metadata": {},
   "source": [
    "In this notebook, Data Sscience tools and Ecosystem are summarized"
   ]
  },
  {
   "cell_type": "markdown",
   "id": "abb60de5",
   "metadata": {},
   "source": [
    "# Objectives:\n",
    "1. Create a cell\n",
    "2. Format a markdown cells with heading style\n",
    "3. Add commend to code cell"
   ]
  },
  {
   "cell_type": "markdown",
   "id": "819da1a5",
   "metadata": {},
   "source": [
    "Some of the popular languages that data scientists use are:\n",
    "   \n",
    "   1. Python\n",
    "   2. SQL\n",
    "   3. R\n",
    "   4. Go\n",
    "   5. Java"
   ]
  },
  {
   "cell_type": "markdown",
   "id": "79d79a83",
   "metadata": {},
   "source": [
    "Some of the commonly used Data Science librararies include:\n",
    "    1. Pandas\n",
    "    2. NumPy\n",
    "    3. Matplotlib\n",
    "    4. Seaborn\n",
    "    5. PyTorch\n",
    "    6. Vegas\n",
    "    "
   ]
  },
  {
   "cell_type": "markdown",
   "id": "5c3b8c0d",
   "metadata": {},
   "source": [
    "# Below are a few examples of evaluating arithematic expresion in python"
   ]
  },
  {
   "cell_type": "markdown",
   "id": "a245447d",
   "metadata": {},
   "source": [
    "|Data Science Tools|\n",
    "|-|\n",
    "|R Studio|\n",
    "|Anaconda|\n",
    "|Jupyter Notebook|"
   ]
  },
  {
   "cell_type": "code",
   "execution_count": null,
   "id": "45038e15",
   "metadata": {},
   "outputs": [],
   "source": [
    "This is a sample of arithematic expression to multiply then add integers:"
   ]
  },
  {
   "cell_type": "code",
   "execution_count": 4,
   "id": "1081fce3",
   "metadata": {},
   "outputs": [
    {
     "data": {
      "text/plain": [
       "17"
      ]
     },
     "execution_count": 4,
     "metadata": {},
     "output_type": "execute_result"
    }
   ],
   "source": [
    "(3*4)+5"
   ]
  },
  {
   "cell_type": "code",
   "execution_count": null,
   "id": "faedf8f4",
   "metadata": {},
   "outputs": [],
   "source": [
    "This will convert 200 minutes to hours by dividing by 60"
   ]
  },
  {
   "cell_type": "markdown",
   "id": "d2f576b6",
   "metadata": {},
   "source": [
    "# Author\n",
    "\n",
    "Ruth Sisi"
   ]
  },
  {
   "cell_type": "markdown",
   "id": "70f28989",
   "metadata": {},
   "source": []
  }
 ],
 "metadata": {
  "kernelspec": {
   "display_name": "Python 3 (ipykernel)",
   "language": "python",
   "name": "python3"
  },
  "language_info": {
   "codemirror_mode": {
    "name": "ipython",
    "version": 3
   },
   "file_extension": ".py",
   "mimetype": "text/x-python",
   "name": "python",
   "nbconvert_exporter": "python",
   "pygments_lexer": "ipython3",
   "version": "3.10.9"
  }
 },
 "nbformat": 4,
 "nbformat_minor": 5
}
